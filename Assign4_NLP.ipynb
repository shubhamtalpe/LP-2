{
 "cells": [
  {
   "cell_type": "code",
   "execution_count": 1,
   "metadata": {},
   "outputs": [],
   "source": [
    "import nltk\n",
    "from nltk.corpus import stopwords\n",
    "from nltk.tokenize import word_tokenize\n",
    "from nltk.stem.snowball import SnowballStemmer\n",
    "import os"
   ]
  },
  {
   "cell_type": "code",
   "execution_count": 2,
   "metadata": {},
   "outputs": [],
   "source": [
    "stop_words = set(stopwords.words('english'))"
   ]
  },
  {
   "cell_type": "code",
   "execution_count": 3,
   "metadata": {},
   "outputs": [],
   "source": [
    "cwd = os.getcwd()\n",
    "data_path = cwd + \"\\\\Assign4_NLP_dataset\\\\test\"\n",
    "categories = [\"neg\", \"pos\"]\n",
    "reviews = []\n",
    "for categ in categories:\n",
    "    path = os.path.join(data_path, categ)\n",
    "    for file in os.listdir(path):\n",
    "        try:\n",
    "            fd = open(path + \"\\\\\" + file)\n",
    "            reviews.append(fd.read())\n",
    "        except:\n",
    "            fd.close()\n",
    "            print(file + \"\\t\" + categ)\n",
    "        else:\n",
    "            fd.close()"
   ]
  },
  {
   "cell_type": "code",
   "execution_count": 4,
   "metadata": {},
   "outputs": [],
   "source": [
    "filtered_reviews = []\n",
    "stemmer = SnowballStemmer(\"english\")\n",
    "for rev in reviews:\n",
    "    review = []\n",
    "    for word in word_tokenize(rev):\n",
    "        if word not in stop_words:\n",
    "            review.append(stemmer.stem(word))\n",
    "    filtered_reviews.append(review)"
   ]
  },
  {
   "cell_type": "code",
   "execution_count": 5,
   "metadata": {},
   "outputs": [
    {
     "name": "stdout",
     "output_type": "stream",
     "text": [
      "Once again Mr. Costner has dragged out a movie for far longer than necessary. Aside from the terrific sea rescue sequences, of which there are very few I just did not care about any of the characters. Most of us have ghosts in the closet, and Costner's character are realized early on, and then forgotten until much later, by which time I did not care. The character we should really care about is a very cocky, overconfident Ashton Kutcher. The problem is he comes off as kid who thinks he's better than anyone else around him and shows no signs of a cluttered closet. His only obstacle appears to be winning over Costner. Finally when we are well past the half way point of this stinker, Costner tells us all about Kutcher's ghosts. We are told why Kutcher is driven to be the best with no prior inkling or foreshadowing. No magic here, it was all I could do to keep from turning it off an hour in.\n"
     ]
    }
   ],
   "source": [
    "print(reviews[0])"
   ]
  },
  {
   "cell_type": "code",
   "execution_count": 6,
   "metadata": {},
   "outputs": [
    {
     "name": "stdout",
     "output_type": "stream",
     "text": [
      "['onc', 'mr.', 'costner', 'drag', 'movi', 'far', 'longer', 'necessari', '.', 'asid', 'terrif', 'sea', 'rescu', 'sequenc', ',', 'i', 'care', 'charact', '.', 'most', 'us', 'ghost', 'closet', ',', 'costner', \"'s\", 'charact', 'realiz', 'earli', ',', 'forgotten', 'much', 'later', ',', 'time', 'i', 'care', '.', 'the', 'charact', 'realli', 'care', 'cocki', ',', 'overconfid', 'ashton', 'kutcher', '.', 'the', 'problem', 'come', 'kid', 'think', \"'s\", 'better', 'anyon', 'els', 'around', 'show', 'sign', 'clutter', 'closet', '.', 'his', 'obstacl', 'appear', 'win', 'costner', '.', 'final', 'well', 'past', 'half', 'way', 'point', 'stinker', ',', 'costner', 'tell', 'us', 'kutcher', \"'s\", 'ghost', '.', 'we', 'told', 'kutcher', 'driven', 'best', 'prior', 'inkl', 'foreshadow', '.', 'no', 'magic', ',', 'i', 'could', 'keep', 'turn', 'hour', '.']\n"
     ]
    }
   ],
   "source": [
    "print(filtered_reviews[0])"
   ]
  },
  {
   "cell_type": "code",
   "execution_count": null,
   "metadata": {},
   "outputs": [],
   "source": []
  }
 ],
 "metadata": {
  "kernelspec": {
   "display_name": "Python 3",
   "language": "python",
   "name": "python3"
  },
  "language_info": {
   "codemirror_mode": {
    "name": "ipython",
    "version": 3
   },
   "file_extension": ".py",
   "mimetype": "text/x-python",
   "name": "python",
   "nbconvert_exporter": "python",
   "pygments_lexer": "ipython3",
   "version": "3.7.6"
  }
 },
 "nbformat": 4,
 "nbformat_minor": 4
}
