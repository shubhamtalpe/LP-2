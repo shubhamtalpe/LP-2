{
 "cells": [
  {
   "cell_type": "code",
   "execution_count": 14,
   "metadata": {},
   "outputs": [],
   "source": [
    "import pandas as pd\n",
    "import nltk\n",
    "from sklearn.model_selection import train_test_split\n",
    "from sklearn.feature_extraction.text import TfidfVectorizer\n",
    "from sklearn.naive_bayes import MultinomialNB\n",
    "from sklearn import metrics"
   ]
  },
  {
   "cell_type": "code",
   "execution_count": 15,
   "metadata": {},
   "outputs": [],
   "source": [
    "text_dataframe = pd.read_csv('bbc-text.csv')"
   ]
  },
  {
   "cell_type": "code",
   "execution_count": 16,
   "metadata": {},
   "outputs": [
    {
     "data": {
      "text/html": [
       "<div>\n",
       "<style scoped>\n",
       "    .dataframe tbody tr th:only-of-type {\n",
       "        vertical-align: middle;\n",
       "    }\n",
       "\n",
       "    .dataframe tbody tr th {\n",
       "        vertical-align: top;\n",
       "    }\n",
       "\n",
       "    .dataframe thead th {\n",
       "        text-align: right;\n",
       "    }\n",
       "</style>\n",
       "<table border=\"1\" class=\"dataframe\">\n",
       "  <thead>\n",
       "    <tr style=\"text-align: right;\">\n",
       "      <th></th>\n",
       "      <th>category</th>\n",
       "      <th>text</th>\n",
       "    </tr>\n",
       "  </thead>\n",
       "  <tbody>\n",
       "    <tr>\n",
       "      <th>0</th>\n",
       "      <td>tech</td>\n",
       "      <td>tv future in the hands of viewers with home th...</td>\n",
       "    </tr>\n",
       "    <tr>\n",
       "      <th>1</th>\n",
       "      <td>business</td>\n",
       "      <td>worldcom boss  left books alone  former worldc...</td>\n",
       "    </tr>\n",
       "    <tr>\n",
       "      <th>2</th>\n",
       "      <td>sport</td>\n",
       "      <td>tigers wary of farrell  gamble  leicester say ...</td>\n",
       "    </tr>\n",
       "    <tr>\n",
       "      <th>3</th>\n",
       "      <td>sport</td>\n",
       "      <td>yeading face newcastle in fa cup premiership s...</td>\n",
       "    </tr>\n",
       "    <tr>\n",
       "      <th>4</th>\n",
       "      <td>entertainment</td>\n",
       "      <td>ocean s twelve raids box office ocean s twelve...</td>\n",
       "    </tr>\n",
       "  </tbody>\n",
       "</table>\n",
       "</div>"
      ],
      "text/plain": [
       "        category                                               text\n",
       "0           tech  tv future in the hands of viewers with home th...\n",
       "1       business  worldcom boss  left books alone  former worldc...\n",
       "2          sport  tigers wary of farrell  gamble  leicester say ...\n",
       "3          sport  yeading face newcastle in fa cup premiership s...\n",
       "4  entertainment  ocean s twelve raids box office ocean s twelve..."
      ]
     },
     "execution_count": 16,
     "metadata": {},
     "output_type": "execute_result"
    }
   ],
   "source": [
    "text_dataframe.head()"
   ]
  },
  {
   "cell_type": "code",
   "execution_count": 17,
   "metadata": {},
   "outputs": [
    {
     "name": "stdout",
     "output_type": "stream",
     "text": [
      "[0 1 2 3 4]\n"
     ]
    }
   ],
   "source": [
    "text_dataframe.category = text_dataframe.category.map({'tech':0, 'business':1, 'sport':2, 'entertainment':3, 'politics':4})\n",
    "print(text_dataframe['category'].unique())"
   ]
  },
  {
   "cell_type": "code",
   "execution_count": 18,
   "metadata": {},
   "outputs": [],
   "source": [
    "x_train, x_test, y_train, y_test = train_test_split(text_dataframe.text, text_dataframe.category, train_size = 0.8, random_state = 1)"
   ]
  },
  {
   "cell_type": "code",
   "execution_count": 19,
   "metadata": {},
   "outputs": [
    {
     "name": "stdout",
     "output_type": "stream",
     "text": [
      "26758\n"
     ]
    }
   ],
   "source": [
    "vectorizer = TfidfVectorizer(stop_words = 'english')\n",
    "vectorizer.fit(x_train)\n",
    "print(len(vectorizer.get_feature_names()))"
   ]
  },
  {
   "cell_type": "code",
   "execution_count": 20,
   "metadata": {},
   "outputs": [
    {
     "name": "stdout",
     "output_type": "stream",
     "text": [
      "  (0, 26717)\t0.05587807764963656\n",
      "  (0, 26617)\t0.025587873496872852\n",
      "  (0, 26574)\t0.0479150950550967\n",
      "  (0, 26456)\t0.01744230097795749\n",
      "  (0, 26447)\t0.05147297013390133\n",
      "  (0, 26433)\t0.021094448610051584\n",
      "  (0, 26326)\t0.06133429943683824\n",
      "  (0, 26325)\t0.03700265148069332\n",
      "  (0, 26284)\t0.037368841418367195\n",
      "  (0, 26106)\t0.04028429947661313\n",
      "  (0, 26090)\t0.043209122989996414\n",
      "  (0, 26052)\t0.06133429943683824\n",
      "  (0, 25986)\t0.06810638100165958\n",
      "  (0, 25916)\t0.028354744552360873\n",
      "  (0, 25914)\t0.021558339775093544\n",
      "  (0, 25745)\t0.04547365963606735\n",
      "  (0, 25741)\t0.07631332957506771\n",
      "  (0, 25644)\t0.028596968713628098\n",
      "  (0, 25417)\t0.025529249348903986\n",
      "  (0, 25411)\t0.07673317654216817\n",
      "  (0, 25406)\t0.02199792290947901\n",
      "  (0, 25404)\t0.04437262721285016\n",
      "  (0, 25341)\t0.042825063205568885\n",
      "  (0, 25065)\t0.03443110294865876\n",
      "  (0, 24951)\t0.06133429943683824\n",
      "  :\t:\n",
      "  (1779, 5972)\t0.05670468826722295\n",
      "  (1779, 4956)\t0.08932937325051649\n",
      "  (1779, 4253)\t0.053559219283503136\n",
      "  (1779, 4179)\t0.07966291285888974\n",
      "  (1779, 3881)\t0.07522183531467133\n",
      "  (1779, 3547)\t0.045009014840201464\n",
      "  (1779, 3545)\t0.04110645031951841\n",
      "  (1779, 3486)\t0.038060586722389995\n",
      "  (1779, 3185)\t0.10300777718996201\n",
      "  (1779, 3014)\t0.1979916672842865\n",
      "  (1779, 2881)\t0.054246341235428576\n",
      "  (1779, 2754)\t0.0911915692660885\n",
      "  (1779, 2348)\t0.11586682117387859\n",
      "  (1779, 2262)\t0.05342576606921969\n",
      "  (1779, 2252)\t0.04678844649137006\n",
      "  (1779, 1569)\t0.21410782065816164\n",
      "  (1779, 1547)\t0.05342576606921969\n",
      "  (1779, 1398)\t0.06405438410678026\n",
      "  (1779, 431)\t0.04225018559588715\n",
      "  (1779, 428)\t0.05227889374313129\n",
      "  (1779, 146)\t0.0911915692660885\n",
      "  (1779, 144)\t0.0911915692660885\n",
      "  (1779, 126)\t0.07460192194810199\n",
      "  (1779, 60)\t0.07399750659919987\n",
      "  (1779, 1)\t0.03505500293189998\n"
     ]
    }
   ],
   "source": [
    "x_train_transform = vectorizer.transform(x_train)\n",
    "print(x_train_transform)"
   ]
  },
  {
   "cell_type": "code",
   "execution_count": 21,
   "metadata": {},
   "outputs": [
    {
     "data": {
      "text/plain": [
       "MultinomialNB()"
      ]
     },
     "execution_count": 21,
     "metadata": {},
     "output_type": "execute_result"
    }
   ],
   "source": [
    "naive_bayes = MultinomialNB()\n",
    "naive_bayes.fit(x_train_transform, y_train)"
   ]
  },
  {
   "cell_type": "code",
   "execution_count": 22,
   "metadata": {},
   "outputs": [
    {
     "name": "stdout",
     "output_type": "stream",
     "text": [
      "  (0, 26621)\t0.033062176504526614\n",
      "  (0, 26521)\t0.06457369953344005\n",
      "  (0, 26450)\t0.06526480396448622\n",
      "  (0, 26136)\t0.06327978050066899\n",
      "  (0, 26081)\t0.10345352695760723\n",
      "  (0, 26016)\t0.03635213315711279\n",
      "  (0, 25979)\t0.07828512935272965\n",
      "  (0, 25914)\t0.04131773847114211\n",
      "  (0, 25872)\t0.05751117411629345\n",
      "  (0, 25678)\t0.09663624729398569\n",
      "  (0, 25536)\t0.050262684583750966\n",
      "  (0, 24782)\t0.05422955959050565\n",
      "  (0, 24582)\t0.07312933709504633\n",
      "  (0, 24355)\t0.03431162634212532\n",
      "  (0, 24275)\t0.029701305129224018\n",
      "  (0, 24140)\t0.05201782990715864\n",
      "  (0, 24036)\t0.11143350353323332\n",
      "  (0, 23404)\t0.08440216866648166\n",
      "  (0, 22999)\t0.06898905241769764\n",
      "  (0, 22882)\t0.05035014265615312\n",
      "  (0, 22863)\t0.07437002012780079\n",
      "  (0, 22613)\t0.1362199599561635\n",
      "  (0, 22501)\t0.071619430475693\n",
      "  (0, 22166)\t0.07235550207934183\n",
      "  (0, 21911)\t0.05603487516340902\n",
      "  :\t:\n",
      "  (444, 10114)\t0.05425989609526761\n",
      "  (444, 9826)\t0.07617048826137043\n",
      "  (444, 9533)\t0.08579251046094569\n",
      "  (444, 9137)\t0.07101451147507185\n",
      "  (444, 8884)\t0.07101451147507185\n",
      "  (444, 8819)\t0.23206198232890082\n",
      "  (444, 8818)\t0.044358283364071334\n",
      "  (444, 8020)\t0.04140272553289452\n",
      "  (444, 7431)\t0.10249574657467361\n",
      "  (444, 7224)\t0.08578889865330777\n",
      "  (444, 6297)\t0.10249574657467361\n",
      "  (444, 5899)\t0.05529925907777304\n",
      "  (444, 5702)\t0.04839708519028787\n",
      "  (444, 5536)\t0.05085225230304356\n",
      "  (444, 4708)\t0.17157779730661554\n",
      "  (444, 4411)\t0.0954073090452451\n",
      "  (444, 3545)\t0.040902118553280895\n",
      "  (444, 3501)\t0.043150875823326884\n",
      "  (444, 3246)\t0.03481013354235953\n",
      "  (444, 2776)\t0.23527701388050296\n",
      "  (444, 2655)\t0.05425989609526761\n",
      "  (444, 2192)\t0.05693366747749575\n",
      "  (444, 1811)\t0.04722879927955452\n",
      "  (444, 1547)\t0.05316019750130245\n",
      "  (444, 60)\t0.036814840056020655\n"
     ]
    }
   ],
   "source": [
    "x_test_transform = vectorizer.transform(x_test)\n",
    "print(x_test_transform)"
   ]
  },
  {
   "cell_type": "code",
   "execution_count": 23,
   "metadata": {},
   "outputs": [
    {
     "name": "stdout",
     "output_type": "stream",
     "text": [
      "Accuracy = 98.427%\n"
     ]
    }
   ],
   "source": [
    "y_predict = naive_bayes.predict(x_test_transform)\n",
    "print(\"Accuracy = \" + str(round(metrics.accuracy_score(y_test, y_predict) * 100, 4)) + \"%\")"
   ]
  },
  {
   "cell_type": "code",
   "execution_count": 24,
   "metadata": {},
   "outputs": [
    {
     "name": "stdout",
     "output_type": "stream",
     "text": [
      "[[ 75   1   0   0   3]\n",
      " [  0 114   0   0   0]\n",
      " [  0   1 107   0   0]\n",
      " [  0   0   0  68   0]\n",
      " [  0   1   1   0  74]]\n"
     ]
    }
   ],
   "source": [
    "confusion_matrix = metrics.confusion_matrix(y_test, y_predict)\n",
    "print(confusion_matrix)"
   ]
  },
  {
   "cell_type": "code",
   "execution_count": 27,
   "metadata": {},
   "outputs": [
    {
     "name": "stdout",
     "output_type": "stream",
     "text": [
      "PRECISION SCORE : 98.427%\n",
      "RECALL SCORE : 98.427%\n"
     ]
    }
   ],
   "source": [
    "print(\"PRECISION SCORE : \" + str(round(metrics.precision_score(y_test, y_predict, average = 'micro') * 100, 4)) + \"%\")\n",
    "print(\"RECALL SCORE : \" + str(round(metrics.recall_score(y_test, y_predict, average = 'micro') * 100, 4)) + \"%\")"
   ]
  },
  {
   "cell_type": "code",
   "execution_count": null,
   "metadata": {},
   "outputs": [],
   "source": []
  }
 ],
 "metadata": {
  "kernelspec": {
   "display_name": "Python 3",
   "language": "python",
   "name": "python3"
  },
  "language_info": {
   "codemirror_mode": {
    "name": "ipython",
    "version": 3
   },
   "file_extension": ".py",
   "mimetype": "text/x-python",
   "name": "python",
   "nbconvert_exporter": "python",
   "pygments_lexer": "ipython3",
   "version": "3.8.3"
  }
 },
 "nbformat": 4,
 "nbformat_minor": 4
}
